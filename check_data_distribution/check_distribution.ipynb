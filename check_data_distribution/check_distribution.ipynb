{
 "cells": [
  {
   "cell_type": "code",
   "execution_count": 19,
   "metadata": {},
   "outputs": [
    {
     "name": "stdout",
     "output_type": "stream",
     "text": [
      "[dataset_builder] loading paper JSON …\n"
     ]
    }
   ],
   "source": [
    "import gzip, json \n",
    "PAPER_JSON = '/data/jx4237data/Graph-CoT/Pipeline/2024_updated_data/papernodes_remove0/paper_nodes_GNN_yearly_9_year_citation_counts.json.gz'\n",
    "print('[dataset_builder] loading paper JSON …')\n",
    "with gzip.open(PAPER_JSON, 'rt', encoding='utf-8') as f:\n",
    "    paper_json = json.load(f)"
   ]
  },
  {
   "cell_type": "code",
   "execution_count": 25,
   "metadata": {},
   "outputs": [
    {
     "name": "stdout",
     "output_type": "stream",
     "text": [
      "1281223 8\n"
     ]
    }
   ],
   "source": [
    "for k ,v in paper_json.items():\n",
    "    if v['features']['is_core'] == 1 and v['features']['AuthorNum'] > 5:\n",
    "        print(k, v['features']['AuthorNum'])\n",
    "        break"
   ]
  },
  {
   "cell_type": "code",
   "execution_count": 27,
   "metadata": {},
   "outputs": [
    {
     "data": {
      "text/plain": [
       "{'features': {'AuthorNum': 8,\n",
       "  'PubYear': 1992,\n",
       "  'CitedCount': 156,\n",
       "  'Title': 'Validation of a new quality of life questionnaire for benign prostatic hyperplasia.',\n",
       "  'Abstract': 'In planning a longitudinal study to characterize the natural history of benign prostatic hyperplasia (BPH), we validated a new disease-specific quality of life questionnaire in a pilot study. We studied 110 men in Rochester, Minnesota who spanned the severity of BPH, from men with no known BPH to men who underwent surgery for this condition. Baseline data were obtained on all men, and the 30 who underwent prostatectomy were re-interviewed to test responsiveness. Reproducibility was examined on the pre-post responses (10 weeks apart) of the 37 men with BPH who did not undergo prostatectomy. Six of twelve question domains were retained in the final questionnaire on the basis of their responsiveness to change, reproducibility, internal consistency, and validity. These were: urinary symptoms, degree of bother due to urinary symptoms, BPH-specific interference with activities, general psychological well-being, worries and concerns, and sexual satisfaction. Most of the more generic measures were deleted.',\n",
       "  'Venue': 'J Clin Epidemiol',\n",
       "  'is_core': 1,\n",
       "  'is_CM4AI': 0,\n",
       "  '1_year_citation': 0,\n",
       "  '2_year_citation': 7,\n",
       "  '3_year_citation': 14,\n",
       "  '4_year_citation': 29,\n",
       "  '5_year_citation': 41,\n",
       "  '6_year_citation': 55,\n",
       "  '7_year_citation': 65,\n",
       "  '8_year_citation': 78,\n",
       "  '9_year_citation': 84,\n",
       "  'is_research_article': 1,\n",
       "  'yearly_citation_count_1': 0,\n",
       "  'yearly_citation_count_2': 7,\n",
       "  'yearly_citation_count_3': 7,\n",
       "  'yearly_citation_count_4': 15,\n",
       "  'yearly_citation_count_5': 12,\n",
       "  'yearly_citation_count_6': 14,\n",
       "  'yearly_citation_count_7': 10,\n",
       "  'yearly_citation_count_8': 13,\n",
       "  'yearly_citation_count_9': 6},\n",
       " 'neighbors': {'author': {'9580000': [1,\n",
       "    'Merck Sharp and Dohme Research Laboratories Merck Sharp and Dohme Research Laboratories=====Merck Sharp and Dohme Research Laboratories Merck Sharp and Dohme Research Laboratories====='],\n",
       "   '3381466': [2, ''],\n",
       "   '5018467': [3, ''],\n",
       "   '1288558': [4, ''],\n",
       "   '3816528': [5, ''],\n",
       "   '8102036': [6, ''],\n",
       "   '7653221': [7, ''],\n",
       "   '2469481': [8, '']},\n",
       "  'mesh': [],\n",
       "  'citing_papers': ['7504499',\n",
       "   '7504848',\n",
       "   '7505223',\n",
       "   '7513106',\n",
       "   '7515203',\n",
       "   '7527166',\n",
       "   '7529448',\n",
       "   '7532392',\n",
       "   '7536258',\n",
       "   '7536718',\n",
       "   '7536867',\n",
       "   '7538316',\n",
       "   '7539173',\n",
       "   '7560700',\n",
       "   '7572978',\n",
       "   '7660509',\n",
       "   '7685427',\n",
       "   '7687780',\n",
       "   '7688433',\n",
       "   '7692105',\n",
       "   '7921322',\n",
       "   '8558668',\n",
       "   '8622001',\n",
       "   '8700804',\n",
       "   '8780606',\n",
       "   '8800882',\n",
       "   '8854061',\n",
       "   '8983253',\n",
       "   '9126064',\n",
       "   '9129915',\n",
       "   '9161345',\n",
       "   '9510348',\n",
       "   '9560070',\n",
       "   '9586610',\n",
       "   '9721063',\n",
       "   '9748680',\n",
       "   '10022695',\n",
       "   '10037383',\n",
       "   '10081864',\n",
       "   '10087388',\n",
       "   '10411289',\n",
       "   '10443735',\n",
       "   '10492184',\n",
       "   '10510926',\n",
       "   '10784636',\n",
       "   '11173937',\n",
       "   '11750242',\n",
       "   '12352415',\n",
       "   '15948299',\n",
       "   '16466847',\n",
       "   '16469608',\n",
       "   '16611664',\n",
       "   '16636208',\n",
       "   '17169156',\n",
       "   '17596576',\n",
       "   '19152343',\n",
       "   '19395697',\n",
       "   '19549122',\n",
       "   '19594737',\n",
       "   '19837429',\n",
       "   '21367876',\n",
       "   '22415907',\n",
       "   '32831001',\n",
       "   '34087312',\n",
       "   '34968151',\n",
       "   '37202311'],\n",
       "  'reference_papers': ['3379490', '2448577', '1700403', '3393032', '2754790']}}"
      ]
     },
     "execution_count": 27,
     "metadata": {},
     "output_type": "execute_result"
    }
   ],
   "source": [
    "paper_json['1281223']"
   ]
  },
  {
   "cell_type": "code",
   "execution_count": 1,
   "metadata": {},
   "outputs": [
    {
     "name": "stdout",
     "output_type": "stream",
     "text": [
      "HeteroData(\n",
      "  \u001b[1mpaper\u001b[0m={\n",
      "    x_title_emb=[5878, 768],\n",
      "    y_citations=[5878, 5],\n",
      "    is_core=[5878],\n",
      "    y_year=[5878],\n",
      "    raw_ids=[5878],\n",
      "    x=[5878, 768]\n",
      "  },\n",
      "  \u001b[1mauthor\u001b[0m={\n",
      "    x=[23597, 768],\n",
      "    raw_ids=[23597]\n",
      "  },\n",
      "  \u001b[1mvenue\u001b[0m={\n",
      "    x=[1389, 768],\n",
      "    raw_ids=[1389]\n",
      "  },\n",
      "  \u001b[1m(author, writes, paper)\u001b[0m={ edge_index=[2, 51156] },\n",
      "  \u001b[1m(paper, written_by, author)\u001b[0m={ edge_index=[2, 51156] },\n",
      "  \u001b[1m(paper, cites, paper)\u001b[0m={ edge_index=[2, 13271] },\n",
      "  \u001b[1m(paper, cited_by, paper)\u001b[0m={ edge_index=[2, 13271] },\n",
      "  \u001b[1m(paper, published_in, venue)\u001b[0m={ edge_index=[2, 5878] },\n",
      "  \u001b[1m(venue, publishes, paper)\u001b[0m={ edge_index=[2, 5878] }\n",
      ")\n"
     ]
    }
   ],
   "source": [
    "import torch\n",
    "file_path ='/data/jx4237data/GNNteamingEvaluator/TeamingEvaluator/data/yearly_snapshots_specter2_starting_from_year_1/G_2018.pt'\n",
    "\n",
    "G = torch.load(file_path)\n",
    "\n",
    "print(G)"
   ]
  },
  {
   "cell_type": "code",
   "execution_count": 18,
   "metadata": {},
   "outputs": [
    {
     "data": {
      "text/plain": [
       "tensor([[ 7,  7,  8, 13, 18],\n",
       "        [ 0,  0,  0,  0,  0],\n",
       "        [ 1,  0,  1,  0,  2],\n",
       "        ...,\n",
       "        [ 2,  0,  0,  0,  0],\n",
       "        [ 0,  0,  0,  0,  0],\n",
       "        [ 1,  5,  1,  1,  1]])"
      ]
     },
     "execution_count": 18,
     "metadata": {},
     "output_type": "execute_result"
    }
   ],
   "source": [
    "G['paper'].y_citations"
   ]
  },
  {
   "cell_type": "code",
   "execution_count": 14,
   "metadata": {},
   "outputs": [
    {
     "name": "stdout",
     "output_type": "stream",
     "text": [
      "Number of papers published in 2018: 285\n",
      "Total references made by 2018 papers: 661\n",
      "Papers with at least one reference: 202\n",
      "Average references per 2018 paper (including papers with 0 refs): 2.32\n",
      "Average references per 2018 paper (only papers with refs): 3.27\n",
      "\n",
      "Final answer: 2.32 references per paper in 2018\n"
     ]
    }
   ],
   "source": [
    "import torch\n",
    "from collections import defaultdict\n",
    "\n",
    "# Assuming G is your HeteroData object\n",
    "def get_avg_references_2018(G):\n",
    "    # Get papers published in 2018\n",
    "    papers_2018_mask = (G['paper'].y_year == 2010)\n",
    "    papers_2018_indices = torch.where(papers_2018_mask)[0]\n",
    "    \n",
    "    print(f\"Number of papers published in 2018: {len(papers_2018_indices)}\")\n",
    "    \n",
    "    if len(papers_2018_indices) == 0:\n",
    "        print(\"No papers found for 2018\")\n",
    "        return 0\n",
    "    \n",
    "    # Get citation edges (paper -> paper that it cites)\n",
    "    cite_edges = G[('paper', 'cites', 'paper')].edge_index\n",
    "    \n",
    "    # Count outgoing citations (references) for each paper\n",
    "    ref_counts = defaultdict(int)\n",
    "    \n",
    "    # cite_edges[0] contains source papers, cite_edges[1] contains target papers\n",
    "    for i in range(cite_edges.shape[1]):\n",
    "        source_paper = cite_edges[0, i].item()\n",
    "        ref_counts[source_paper] += 1\n",
    "    \n",
    "    # Calculate total references for 2018 papers\n",
    "    total_refs_2018 = 0\n",
    "    papers_with_refs = 0\n",
    "    \n",
    "    for paper_idx in papers_2018_indices:\n",
    "        paper_idx = paper_idx.item()\n",
    "        refs = ref_counts[paper_idx]\n",
    "        total_refs_2018 += refs\n",
    "        if refs > 0:\n",
    "            papers_with_refs += 1\n",
    "    \n",
    "    # Calculate averages\n",
    "    avg_refs_all = total_refs_2018 / len(papers_2018_indices)\n",
    "    avg_refs_with_refs = total_refs_2018 / papers_with_refs if papers_with_refs > 0 else 0\n",
    "    \n",
    "    print(f\"Total references made by 2018 papers: {total_refs_2018}\")\n",
    "    print(f\"Papers with at least one reference: {papers_with_refs}\")\n",
    "    print(f\"Average references per 2018 paper (including papers with 0 refs): {avg_refs_all:.2f}\")\n",
    "    print(f\"Average references per 2018 paper (only papers with refs): {avg_refs_with_refs:.2f}\")\n",
    "    \n",
    "    return avg_refs_all\n",
    "\n",
    "# Usage\n",
    "avg_references = get_avg_references_2018(G)\n",
    "print(f\"\\nFinal answer: {avg_references:.2f} references per paper in 2018\")"
   ]
  },
  {
   "cell_type": "code",
   "execution_count": 28,
   "metadata": {},
   "outputs": [
    {
     "data": {
      "image/png": "[encoded data removed]",
      "text/plain": [
       "<Figure size 1000x600 with 1 Axes>"
      ]
     },
     "metadata": {},
     "output_type": "display_data"
    }
   ],
   "source": [
    "import torch\n",
    "import matplotlib.pyplot as plt\n",
    "import numpy as np\n",
    "\n",
    "# Load the data\n",
    "file_path = '/data/jx4237data/GNNteamingEvaluator/TeamingEvaluator/data/yearly_snapshots_specter2_starting_from_year_1/G_2018.pt'\n",
    "G = torch.load(file_path)\n",
    "\n",
    "# Get citation data\n",
    "citations = G['paper']['y_citations'].numpy()\n",
    "\n",
    "# Calculate mean and standard error for each year\n",
    "mean_citations = np.mean(citations, axis=0)\n",
    "std_citations = np.std(citations, axis=0)\n",
    "std_error = std_citations / np.sqrt(len(citations))\n",
    "\n",
    "# Create the plot\n",
    "years = np.arange(1, 6)  # Years 1-5\n",
    "plt.figure(figsize=(10, 6))\n",
    "plt.errorbar(years, mean_citations, yerr=std_error, fmt='o-', capsize=5, capthick=1, ecolor='gray', color='blue')\n",
    "\n",
    "# Customize the plot\n",
    "plt.xlabel('Year')\n",
    "plt.ylabel('Average Citations')\n",
    "plt.title('Average Citations per Year with Standard Error')\n",
    "plt.grid(True, linestyle='--', alpha=0.7)\n",
    "\n",
    "plt.show()"
   ]
  }
 ],
 "metadata": {
  "kernelspec": {
   "display_name": ".venv",
   "language": "python",
   "name": "python3"
  },
  "language_info": {
   "codemirror_mode": {
    "name": "ipython",
    "version": 3
   },
   "file_extension": ".py",
   "mimetype": "text/x-python",
   "name": "python",
   "nbconvert_exporter": "python",
   "pygments_lexer": "ipython3",
   "version": "3.12.3"
  }
 },
 "nbformat": 4,
 "nbformat_minor": 2
}
